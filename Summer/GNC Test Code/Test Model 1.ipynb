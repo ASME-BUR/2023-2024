{
 "cells": [
  {
   "cell_type": "code",
   "execution_count": 1,
   "id": "ccf045aa",
   "metadata": {},
   "outputs": [],
   "source": [
    "import numpy as np\n",
    "from matplotlib import pyplot as plt"
   ]
  },
  {
   "cell_type": "code",
   "execution_count": 2,
   "id": "009badeb",
   "metadata": {},
   "outputs": [],
   "source": [
    "def pwm2Thrust(pwm):\n",
    "    thrust = 0.5*(pwm-1500)\n",
    "    return thrust\n",
    "\n",
    "def move(thrusters, changeThrust, thrustDir, mass, extForce):\n",
    "    thrust = np.zeros(8)\n",
    "    force = np.zeros(3)\n",
    "    newThrusters = thrusters + changeThrust\n",
    "    \n",
    "    for i in range(0,len(thrusters)):\n",
    "        if newThrusters[i] > 1900:\n",
    "            newThrusters[i] = 1900\n",
    "        elif newThrusters[i] < 1100:\n",
    "            newThrusters[i] = 1100\n",
    "        thrust[i] = pwm2Thrust(newThrusters[i])\n",
    "        force = force + thrust[i] * thrustDir[i]\n",
    "    force = force + extForce\n",
    "    acc = force/mass\n",
    "    return acc\n",
    "\n",
    "def newState(position, vel, acc, dt):\n",
    "    velNew = np.zeros(3)\n",
    "    positionNew = np.zeros(3)\n",
    "    for i in range(0,len(vel)):\n",
    "        velNew[i] = vel[i] + acc[i]*dt\n",
    "    for i in range(0,len(position)):\n",
    "        velAvg = (vel[i] + velNew[i])/2\n",
    "        positionNew[i] = position[i] + velAvg*dt\n",
    "    for i in range(0,len(positionNew)):\n",
    "        if positionNew[i] < 0:\n",
    "            positionNew[i] = 0\n",
    "            velNew[i] = 0\n",
    "    return positionNew, velNew"
   ]
  },
  {
   "cell_type": "code",
   "execution_count": 3,
   "id": "84626eb2",
   "metadata": {},
   "outputs": [
    {
     "data": {
      "text/plain": [
       "[<matplotlib.lines.Line2D at 0x1766722e250>]"
      ]
     },
     "execution_count": 3,
     "metadata": {},
     "output_type": "execute_result"
    },
    {
     "data": {
      "image/png": "[encoded data removed]",
      "text/plain": [
       "<Figure size 640x480 with 1 Axes>"
      ]
     },
     "metadata": {},
     "output_type": "display_data"
    }
   ],
   "source": [
    "dir1 = np.array([np.cos(np.pi/4), np.sin(np.pi/4), 0])\n",
    "dir2 = np.array([-np.cos(np.pi/4), np.sin(np.pi/4), 0])\n",
    "dir3 = np.array([0, 0, 1])\n",
    "dir4 = np.array([0, 0, -1])\n",
    "dir5 = np.array([0, 0, -1])\n",
    "dir6 = np.array([0, 0, 1])\n",
    "dir7 = np.array([-np.cos(np.pi/4), np.sin(np.pi/4), 0])\n",
    "dir8 = np.array([np.cos(np.pi/4), np.sin(np.pi/4), 0])\n",
    "thrustDir = np.array([dir1, dir2, dir3, dir4, dir5, dir6, dir7, dir8])\n",
    "\n",
    "zPos = 2\n",
    "yPos = 1\n",
    "xPos = 0\n",
    "\n",
    "targetX = 5\n",
    "targetY = 300\n",
    "targetZ = 10\n",
    "targetPos = np.array([targetX, targetY, targetZ])\n",
    "\n",
    "m = 10 #kg\n",
    "dt = 0.01 #s\n",
    "time = np.arange(0,250,dt)\n",
    "position = np.zeros([len(time),3])\n",
    "velocity = np.zeros([len(time),3])\n",
    "K = 4\n",
    "Kd = 10\n",
    "Ki = 0.5\n",
    "\n",
    "\n",
    "\n",
    "\n",
    "thrusters = np.array([1500, 1500, 1500, 1500, 1500, 1500, 1500, 1500])\n",
    "changeThrust = np.array([0,0,0,0,0,0,0,0])\n",
    "posErr = 0\n",
    "prevErr = 0\n",
    "trackErr = 0\n",
    "\n",
    "g = 9.8 #m/s^2\n",
    "gForce = [0,0,-m*g]\n",
    "extForce = gForce\n",
    "for i in range(0,len(time)-1):\n",
    "    changeThrust = np.array([0,0,0,0,0,0,0,0])\n",
    "    posErr = targetPos - position[i]\n",
    "    diffErr = posErr-prevErr\n",
    "    trackErr = trackErr + posErr\n",
    "    u = posErr*K + diffErr/dt*Kd + trackErr*Ki*dt\n",
    "    \n",
    "    zControl = np.array([0, 0, 1, -1, -1, 1, 0, 0])\n",
    "    yControl = np.array([1, 1, 0, 0, 0, 0, 1, 1])\n",
    "    xControl = np.array([1, -1, 0, 0, 0, 0, -1, 1])\n",
    "    \n",
    "    changeThrust = u[0]*xControl + u[1]*yControl + u[2]*zControl\n",
    "    \n",
    "    acc = move(thrusters, changeThrust, thrustDir, m, extForce)\n",
    "    [position[i+1], velocity[i+1]] = newState(position[i], velocity[i], acc, dt)\n",
    "    \n",
    "    prevErr = posErr\n",
    "\n",
    "\n",
    "plt.plot(time,position[:,zPos])\n",
    "plt.plot(time,position[:,yPos])\n",
    "plt.plot(time,position[:,xPos])\n",
    "    \n",
    "    \n",
    "\n"
   ]
  },
  {
   "cell_type": "code",
   "execution_count": 90,
   "id": "4532373b",
   "metadata": {},
   "outputs": [
    {
     "name": "stdout",
     "output_type": "stream",
     "text": [
      "4 ,  6\n"
     ]
    },
    {
     "data": {
      "text/plain": [
       "3"
      ]
     },
     "execution_count": 90,
     "metadata": {},
     "output_type": "execute_result"
    }
   ],
   "source": [
    "#Sandbox\n",
    "a = np.array([1,2,3,4])\n",
    "b = np.array([3,4,5,6])\n",
    "c = a+b\n",
    "c[3]\n",
    "\n",
    "a = np.array([1,2,3,4])\n",
    "b = np.array([7,6,5,4])\n",
    "c = np.array([a,b])\n",
    "c[1]\n",
    "\n",
    "a = 4\n",
    "b = 6\n",
    "print(a, \", \", b)\n",
    "c = [1,2,3]\n",
    "max(c)"
   ]
  },
  {
   "cell_type": "code",
   "execution_count": 16,
   "id": "477ccab5",
   "metadata": {},
   "outputs": [
    {
     "data": {
      "text/plain": [
       "0.7071067811865476"
      ]
     },
     "execution_count": 16,
     "metadata": {},
     "output_type": "execute_result"
    }
   ],
   "source": [
    "a = np.zeros([1,8])\n",
    "b = np.array([2.4,5.6,4.3,6,7,8,6,5])\n",
    "a+b\n",
    "np.cos(np.pi/4)"
   ]
  },
  {
   "cell_type": "code",
   "execution_count": 7,
   "id": "1402dfb7",
   "metadata": {},
   "outputs": [
    {
     "data": {
      "text/plain": [
       "3"
      ]
     },
     "execution_count": 7,
     "metadata": {},
     "output_type": "execute_result"
    }
   ],
   "source": [
    "def trial():\n",
    "    return 3,4\n",
    "[a,b] = np.array(trial())\n",
    "a"
   ]
  },
  {
   "cell_type": "code",
   "execution_count": 36,
   "id": "0c028af1",
   "metadata": {},
   "outputs": [
    {
     "name": "stdout",
     "output_type": "stream",
     "text": [
      "0.0\n"
     ]
    }
   ],
   "source": [
    "a = np.zeros([1,3])\n",
    "print(a[0][1])"
   ]
  },
  {
   "cell_type": "code",
   "execution_count": 66,
   "id": "18a1a1c1",
   "metadata": {},
   "outputs": [
    {
     "data": {
      "text/plain": [
       "array([0., 0., 0., 0., 0., 0., 0., 0.])"
      ]
     },
     "execution_count": 66,
     "metadata": {},
     "output_type": "execute_result"
    }
   ],
   "source": [
    "a = np.zeros([8,2])\n",
    "a[:,0]"
   ]
  },
  {
   "cell_type": "code",
   "execution_count": null,
   "id": "5c3b5ecb",
   "metadata": {},
   "outputs": [],
   "source": []
  }
 ],
 "metadata": {
  "kernelspec": {
   "display_name": "Python 3 (ipykernel)",
   "language": "python",
   "name": "python3"
  },
  "language_info": {
   "codemirror_mode": {
    "name": "ipython",
    "version": 3
   },
   "file_extension": ".py",
   "mimetype": "text/x-python",
   "name": "python",
   "nbconvert_exporter": "python",
   "pygments_lexer": "ipython3",
   "version": "3.11.4"
  }
 },
 "nbformat": 4,
 "nbformat_minor": 5
}
